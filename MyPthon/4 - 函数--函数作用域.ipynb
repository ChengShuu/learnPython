{
 "cells": [
  {
   "cell_type": "markdown",
   "metadata": {},
   "source": [
    "# 变量作用域\n",
    "- 变量由作用范围限制\n",
    "- 分类：按照作用域分类\n",
    "    - 全局(global): 在函数外部定义\n",
    "    - 局部(local)：在函数内部定义\n",
    "- 变量的作用范围：\n",
    "    - 全局变量：在整个全局范围都有效，在局部可以使用（即函数内部可以函数范围外部定义的变量）\n",
    "    - 局部变量在局部范围可以使用，在全局范围无法使用\n",
    "- LEGB原则（小地方可以访问大地方，反之不行）\n",
    "    - L（Local）局部作用域\n",
    "    - E（Enclosing function locale）外部嵌套函数作用域\n",
    "    - G（Global module）函数定义所在模块作用域\n",
    "    - B（Build in） python内置魔抗的作用域"
   ]
  },
  {
   "cell_type": "code",
   "execution_count": 3,
   "metadata": {},
   "outputs": [
    {
     "name": "stdout",
     "output_type": "stream",
     "text": [
      "100\n",
      "100\n",
      "sad\n",
      "90\n"
     ]
    },
    {
     "ename": "NameError",
     "evalue": "name 'a2' is not defined",
     "output_type": "error",
     "traceback": [
      "\u001b[0;31m---------------------------------------------------------------------------\u001b[0m",
      "\u001b[0;31mNameError\u001b[0m                                 Traceback (most recent call last)",
      "\u001b[0;32m<ipython-input-3-960315e618ce>\u001b[0m in \u001b[0;36m<module>\u001b[0;34m()\u001b[0m\n\u001b[1;32m      8\u001b[0m \u001b[0mprint\u001b[0m\u001b[0;34m(\u001b[0m\u001b[0ma1\u001b[0m\u001b[0;34m)\u001b[0m\u001b[0;34m\u001b[0m\u001b[0;34m\u001b[0m\u001b[0m\n\u001b[1;32m      9\u001b[0m \u001b[0mfun\u001b[0m\u001b[0;34m(\u001b[0m\u001b[0;34m)\u001b[0m\u001b[0;34m\u001b[0m\u001b[0;34m\u001b[0m\u001b[0m\n\u001b[0;32m---> 10\u001b[0;31m \u001b[0mprint\u001b[0m\u001b[0;34m(\u001b[0m\u001b[0ma2\u001b[0m\u001b[0;34m)\u001b[0m\u001b[0;34m\u001b[0m\u001b[0;34m\u001b[0m\u001b[0m\n\u001b[0m",
      "\u001b[0;31mNameError\u001b[0m: name 'a2' is not defined"
     ]
    }
   ],
   "source": [
    "a1 = 100\n",
    "def fun():\n",
    "    print(a1)\n",
    "    print(\"sad\")\n",
    "    a2 = 90\n",
    "    print(a2)\n",
    "    \n",
    "print(a1)\n",
    "fun()\n",
    "print(a2)"
   ]
  },
  {
   "cell_type": "markdown",
   "metadata": {},
   "source": [
    "## 提升局部变量为全局变量\n",
    "- 使用global"
   ]
  },
  {
   "cell_type": "code",
   "execution_count": 8,
   "metadata": {},
   "outputs": [
    {
     "name": "stdout",
     "output_type": "stream",
     "text": [
      "100\n",
      "sad\n",
      "90\n",
      "100\n",
      "90\n"
     ]
    }
   ],
   "source": [
    "a1 = 100\n",
    "def fun():\n",
    "    print(a1)\n",
    "    print(\"sad\")\n",
    "    global a2 \n",
    "    a2 = 90\n",
    "    print(a2)\n",
    "    \n",
    "\n",
    "fun()\n",
    "print(a1)\n",
    "print(a2)"
   ]
  },
  {
   "cell_type": "code",
   "execution_count": 7,
   "metadata": {},
   "outputs": [
    {
     "name": "stdout",
     "output_type": "stream",
     "text": [
      "100\n",
      "I am in fun\n",
      "99\n",
      "100\n"
     ]
    }
   ],
   "source": [
    "def fun():\n",
    "    global b1\n",
    "    b1 = 100\n",
    "    print(b1)\n",
    "    print(\"I am in fun\")\n",
    "    # a2的作用范围是fun\n",
    "    b2 = 99\n",
    "    print(b2)\n",
    "    \n",
    "    \n",
    "\n",
    "#print(b2)\n",
    "fun()\n",
    "# print(b1)如果在函数调用上面，则不好使，报错，为什么？？？\n",
    "print(b1)"
   ]
  },
  {
   "cell_type": "markdown",
   "metadata": {},
   "source": [
    "# globals、locals函数\n",
    "- 可以通过global、locals显示出局部变量和全局变量\n",
    "- global、locals内建函数"
   ]
  },
  {
   "cell_type": "code",
   "execution_count": 9,
   "metadata": {},
   "outputs": [
    {
     "name": "stdout",
     "output_type": "stream",
     "text": [
      "Locals={'e': 111, 'd': 200, 'c': 100}\n",
      "Globals={'__name__': '__main__', '__doc__': 'Automatically created module for IPython interactive environment', '__package__': None, '__loader__': None, '__spec__': None, '__builtin__': <module 'builtins' (built-in)>, '__builtins__': <module 'builtins' (built-in)>, '_ih': ['', 'a1 = 100\\ndef fun():\\n    print(a1)\\n    print(\"sad\")\\n    a2 = 90\\n    print(a2)\\n    \\nprint(a1)', 'a1 = 100\\ndef fun():\\n    print(a1)\\n    print(\"sad\")\\n    a2 = 90\\n    print(a2)\\n    \\nprint(a1)\\nfun()', 'a1 = 100\\ndef fun():\\n    print(a1)\\n    print(\"sad\")\\n    a2 = 90\\n    print(a2)\\n    \\nprint(a1)\\nfun()\\nprint(a2)', 'a1 = 100\\ndef fun():\\n    print(a1)\\n    print(\"sad\")\\n    global a2 = 90\\n    print(a2)\\n    \\nprint(a1)\\nfun()\\nprint(a2)', 'a1 = 100\\ndef fun():\\n    print(a1)\\n    print(\"sad\")\\n    global a2 = 90\\n    print(a2)\\n    \\n\\nfun()\\nprint(a1)\\nprint(a2)', 'def fun():\\n    global b1\\n    b1 = 100\\n    print(b1)\\n    print(\"I am in fun\")\\n    # a2的作用范围是fun\\n    b2 = 99\\n    print(b2)\\n    \\n    \\n\\n#print(b2)\\nfun()\\n# print(b1)如果在函数调用上面，则不好使，报错，为什么？？？\\nprint(b1)', 'def fun():\\n    global b1\\n    b1 = 100\\n    print(b1)\\n    print(\"I am in fun\")\\n    # a2的作用范围是fun\\n    b2 = 99\\n    print(b2)\\n    \\n    \\n\\n#print(b2)\\nfun()\\n# print(b1)如果在函数调用上面，则不好使，报错，为什么？？？\\nprint(b1)', 'a1 = 100\\ndef fun():\\n    print(a1)\\n    print(\"sad\")\\n    global a2 \\n    a2 = 90\\n    print(a2)\\n    \\n\\nfun()\\nprint(a1)\\nprint(a2)', '# globals 和 locals\\n# globals 和 locals 叫做内建函数\\na = 1\\nb = 2\\n\\ndef fun(c,d):\\n    e = 111\\n    print(\"Locals={0}\".format(locals()))\\n    print(\"Globals={0}\".format(globals()))\\n    \\nfun(100, 200)'], '_oh': {}, '_dh': ['/home/cs/Music/MyPthon'], 'In': ['', 'a1 = 100\\ndef fun():\\n    print(a1)\\n    print(\"sad\")\\n    a2 = 90\\n    print(a2)\\n    \\nprint(a1)', 'a1 = 100\\ndef fun():\\n    print(a1)\\n    print(\"sad\")\\n    a2 = 90\\n    print(a2)\\n    \\nprint(a1)\\nfun()', 'a1 = 100\\ndef fun():\\n    print(a1)\\n    print(\"sad\")\\n    a2 = 90\\n    print(a2)\\n    \\nprint(a1)\\nfun()\\nprint(a2)', 'a1 = 100\\ndef fun():\\n    print(a1)\\n    print(\"sad\")\\n    global a2 = 90\\n    print(a2)\\n    \\nprint(a1)\\nfun()\\nprint(a2)', 'a1 = 100\\ndef fun():\\n    print(a1)\\n    print(\"sad\")\\n    global a2 = 90\\n    print(a2)\\n    \\n\\nfun()\\nprint(a1)\\nprint(a2)', 'def fun():\\n    global b1\\n    b1 = 100\\n    print(b1)\\n    print(\"I am in fun\")\\n    # a2的作用范围是fun\\n    b2 = 99\\n    print(b2)\\n    \\n    \\n\\n#print(b2)\\nfun()\\n# print(b1)如果在函数调用上面，则不好使，报错，为什么？？？\\nprint(b1)', 'def fun():\\n    global b1\\n    b1 = 100\\n    print(b1)\\n    print(\"I am in fun\")\\n    # a2的作用范围是fun\\n    b2 = 99\\n    print(b2)\\n    \\n    \\n\\n#print(b2)\\nfun()\\n# print(b1)如果在函数调用上面，则不好使，报错，为什么？？？\\nprint(b1)', 'a1 = 100\\ndef fun():\\n    print(a1)\\n    print(\"sad\")\\n    global a2 \\n    a2 = 90\\n    print(a2)\\n    \\n\\nfun()\\nprint(a1)\\nprint(a2)', '# globals 和 locals\\n# globals 和 locals 叫做内建函数\\na = 1\\nb = 2\\n\\ndef fun(c,d):\\n    e = 111\\n    print(\"Locals={0}\".format(locals()))\\n    print(\"Globals={0}\".format(globals()))\\n    \\nfun(100, 200)'], 'Out': {}, 'get_ipython': <bound method InteractiveShell.get_ipython of <ipykernel.zmqshell.ZMQInteractiveShell object at 0x7f1824121f28>>, 'exit': <IPython.core.autocall.ZMQExitAutocall object at 0x7f18240f8470>, 'quit': <IPython.core.autocall.ZMQExitAutocall object at 0x7f18240f8470>, '_': '', '__': '', '___': '', '_i': 'a1 = 100\\ndef fun():\\n    print(a1)\\n    print(\"sad\")\\n    global a2 \\n    a2 = 90\\n    print(a2)\\n    \\n\\nfun()\\nprint(a1)\\nprint(a2)', '_ii': 'def fun():\\n    global b1\\n    b1 = 100\\n    print(b1)\\n    print(\"I am in fun\")\\n    # a2的作用范围是fun\\n    b2 = 99\\n    print(b2)\\n    \\n    \\n\\n#print(b2)\\nfun()\\n# print(b1)如果在函数调用上面，则不好使，报错，为什么？？？\\nprint(b1)', '_iii': 'def fun():\\n    global b1\\n    b1 = 100\\n    print(b1)\\n    print(\"I am in fun\")\\n    # a2的作用范围是fun\\n    b2 = 99\\n    print(b2)\\n    \\n    \\n\\n#print(b2)\\nfun()\\n# print(b1)如果在函数调用上面，则不好使，报错，为什么？？？\\nprint(b1)', '_i1': 'a1 = 100\\ndef fun():\\n    print(a1)\\n    print(\"sad\")\\n    a2 = 90\\n    print(a2)\\n    \\nprint(a1)', 'a1': 100, 'fun': <function fun at 0x7f182074d950>, '_i2': 'a1 = 100\\ndef fun():\\n    print(a1)\\n    print(\"sad\")\\n    a2 = 90\\n    print(a2)\\n    \\nprint(a1)\\nfun()', '_i3': 'a1 = 100\\ndef fun():\\n    print(a1)\\n    print(\"sad\")\\n    a2 = 90\\n    print(a2)\\n    \\nprint(a1)\\nfun()\\nprint(a2)', '_i4': 'a1 = 100\\ndef fun():\\n    print(a1)\\n    print(\"sad\")\\n    global a2 = 90\\n    print(a2)\\n    \\nprint(a1)\\nfun()\\nprint(a2)', '_i5': 'a1 = 100\\ndef fun():\\n    print(a1)\\n    print(\"sad\")\\n    global a2 = 90\\n    print(a2)\\n    \\n\\nfun()\\nprint(a1)\\nprint(a2)', '_i6': 'def fun():\\n    global b1\\n    b1 = 100\\n    print(b1)\\n    print(\"I am in fun\")\\n    # a2的作用范围是fun\\n    b2 = 99\\n    print(b2)\\n    \\n    \\n\\n#print(b2)\\nfun()\\n# print(b1)如果在函数调用上面，则不好使，报错，为什么？？？\\nprint(b1)', 'b1': 100, '_i7': 'def fun():\\n    global b1\\n    b1 = 100\\n    print(b1)\\n    print(\"I am in fun\")\\n    # a2的作用范围是fun\\n    b2 = 99\\n    print(b2)\\n    \\n    \\n\\n#print(b2)\\nfun()\\n# print(b1)如果在函数调用上面，则不好使，报错，为什么？？？\\nprint(b1)', '_i8': 'a1 = 100\\ndef fun():\\n    print(a1)\\n    print(\"sad\")\\n    global a2 \\n    a2 = 90\\n    print(a2)\\n    \\n\\nfun()\\nprint(a1)\\nprint(a2)', 'a2': 90, '_i9': '# globals 和 locals\\n# globals 和 locals 叫做内建函数\\na = 1\\nb = 2\\n\\ndef fun(c,d):\\n    e = 111\\n    print(\"Locals={0}\".format(locals()))\\n    print(\"Globals={0}\".format(globals()))\\n    \\nfun(100, 200)', 'a': 1, 'b': 2}\n"
     ]
    }
   ],
   "source": [
    "# globals 和 locals\n",
    "# globals 和 locals 叫做内建函数\n",
    "a = 1\n",
    "b = 2\n",
    "\n",
    "def fun(c,d):\n",
    "    e = 111\n",
    "    print(\"Locals={0}\".format(locals()))\n",
    "    print(\"Globals={0}\".format(globals()))\n",
    "    \n",
    "fun(100, 200)"
   ]
  },
  {
   "cell_type": "markdown",
   "metadata": {},
   "source": [
    "# eval()函数\n",
    "- 把一个字符串当成一段代码，返回表达式执行后的结果\n",
    "- 语法： \n",
    "    \n",
    "        eval(string_code, globals=None, locals=None)\n",
    "            \n",
    "            \n",
    "# exec()函数\n",
    "- 跟eval功能类似， 但是，不返回结果\n",
    "- 语法：\n",
    "        exec(string_code, globals=None, locals=None)"
   ]
  },
  {
   "cell_type": "code",
   "execution_count": 12,
   "metadata": {},
   "outputs": [
    {
     "name": "stdout",
     "output_type": "stream",
     "text": [
      "300\n",
      "300\n"
     ]
    }
   ],
   "source": [
    "x = 100\n",
    "y = 200\n",
    "w = x + y\n",
    "z = eval(\"x + y\")\n",
    "print(w)\n",
    "print(z)"
   ]
  },
  {
   "cell_type": "code",
   "execution_count": 13,
   "metadata": {},
   "outputs": [
    {
     "name": "stdout",
     "output_type": "stream",
     "text": [
      "x+y: 300\n",
      "300\n",
      "None\n"
     ]
    }
   ],
   "source": [
    "# exec示例\n",
    "x = 100\n",
    "y = 200\n",
    "# 执行x+y\n",
    "# z = x + y\n",
    "z1 = x + y\n",
    "# 1, 注意字符串中引号的写法\n",
    "# 2. 比对exec执行结果和代码执行结果\n",
    "z2 = exec(\"print('x+y:', x+y)\")\n",
    "\n",
    "print(z1)\n",
    "print(z2)"
   ]
  }
 ],
 "metadata": {
  "kernelspec": {
   "display_name": "Python 3",
   "language": "python",
   "name": "python3"
  },
  "language_info": {
   "codemirror_mode": {
    "name": "ipython",
    "version": 3
   },
   "file_extension": ".py",
   "mimetype": "text/x-python",
   "name": "python",
   "nbconvert_exporter": "python",
   "pygments_lexer": "ipython3",
   "version": "3.6.8"
  }
 },
 "nbformat": 4,
 "nbformat_minor": 2
}
