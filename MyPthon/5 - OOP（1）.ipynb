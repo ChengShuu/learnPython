{
 "cells": [
  {
   "cell_type": "code",
   "execution_count": 1,
   "metadata": {},
   "outputs": [],
   "source": [
    "'''\n",
    "定以一个学生类，用来形容学生\n",
    "'''\n",
    "# 定义一个空的类\n",
    "class Student():\n",
    "    # 一个空类，pass代表直接跳过\n",
    "    # 此处pass必须有\n",
    "    pass"
   ]
  },
  {
   "cell_type": "code",
   "execution_count": 4,
   "metadata": {},
   "outputs": [],
   "source": [
    "# 定义一个对象\n",
    "mingyue = Student()"
   ]
  },
  {
   "cell_type": "code",
   "execution_count": 5,
   "metadata": {},
   "outputs": [],
   "source": [
    "# 定义一个类，用来描述听Python的学生\n",
    "class PythonStudent():\n",
    "    # 用None给不确定的值赋值\n",
    "    name = None\n",
    "    age = 18\n",
    "    course = \"Python\"\n",
    "\n",
    "    # 需要注意\n",
    "    # 1. def doHomework的缩进层级\n",
    "    # 2. 系统默认有一个self参数\n",
    "    def doHomework(self):\n",
    "        print(\"I 在做作业\")\n",
    "\n",
    "        # 推荐在函数末尾使用return语句\n",
    "        return None"
   ]
  },
  {
   "cell_type": "code",
   "execution_count": 3,
   "metadata": {},
   "outputs": [
    {
     "name": "stdout",
     "output_type": "stream",
     "text": [
      "None\n",
      "18\n",
      "I 在做作业\n"
     ]
    }
   ],
   "source": [
    "# 实例化一个叫yueyue的学生，是一个具体的人\n",
    "yueyue = PythonStudent()\n",
    "print(yueyue.name)\n",
    "print(yueyue.age)\n",
    "# 注意成员函数的调用没有传递进入参数\n",
    "yueyue.doHomework()"
   ]
  },
  {
   "cell_type": "code",
   "execution_count": null,
   "metadata": {},
   "outputs": [],
   "source": []
  }
 ],
 "metadata": {
  "kernelspec": {
   "display_name": "Python 3",
   "language": "python",
   "name": "python3"
  },
  "language_info": {
   "codemirror_mode": {
    "name": "ipython",
    "version": 3
   },
   "file_extension": ".py",
   "mimetype": "text/x-python",
   "name": "python",
   "nbconvert_exporter": "python",
   "pygments_lexer": "ipython3",
   "version": "3.6.8"
  }
 },
 "nbformat": 4,
 "nbformat_minor": 2
}
