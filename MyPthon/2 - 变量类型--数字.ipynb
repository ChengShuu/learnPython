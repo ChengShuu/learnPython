{
 "cells": [
  {
   "cell_type": "markdown",
   "metadata": {},
   "source": [
    "# 主要内容"
   ]
  },
  {
   "cell_type": "markdown",
   "metadata": {},
   "source": [
    "- 数字Number\n",
    "    - 整数\n",
    "    - 浮点数\n",
    "    - 复数\n",
    "    - 布尔值\n",
    "- None\n",
    "- 表达式\n",
    "- 运算符\n",
    "    - 算数运算符\n",
    "    - 比较运算符\n",
    "    - 赋值预算符\n",
    "    - 逻辑运算符\n",
    "    - 位运算符\n",
    "    - 成员运算符\n",
    "    - 身份运算符\n",
    "- 运算符的优先级问题"
   ]
  },
  {
   "cell_type": "markdown",
   "metadata": {},
   "source": [
    "### 变量类型"
   ]
  },
  {
   "cell_type": "markdown",
   "metadata": {},
   "source": [
    "- python只有一个类型\n",
    "- 标准数据类型六种\n",
    "    - 数字Number\n",
    "    - 字符串Str\n",
    "    - 列表 List\n",
    "    - 元组合 Tuple\n",
    "    - 字典 Dict\n",
    "    - 集合 Set"
   ]
  },
  {
   "cell_type": "markdown",
   "metadata": {},
   "source": [
    "### Number数字类型"
   ]
  },
  {
   "cell_type": "markdown",
   "metadata": {},
   "source": [
    "- 数字类型没有大小限制"
   ]
  },
  {
   "cell_type": "markdown",
   "metadata": {},
   "source": [
    "#### 整数"
   ]
  },
  {
   "cell_type": "markdown",
   "metadata": {},
   "source": [
    "- 没有小数部分，表示个数的数字\n",
    "- 自然数，0，负自然数\n",
    "- 整数分进制\n",
    "    - 二进制\n",
    "        - 计算机常用\n",
    "        - 是计算机唯一能直接理解的数字\n",
    "        - 表示为0b开头的0,1代码\n",
    "        - 例如 0b01101, 0b10001\n",
    "    - 八进制\n",
    "        - 不常用\n",
    "        - 以0o开头的包含0-7的数字\n",
    "    - 十六进制\n",
    "        - 缝16进1\n",
    "        - 其实是每四位二进制表示一位十六进制数\n",
    "        - 包含0-9， a-f\n",
    "        - 数字上以0x开头表示\n",
    "    - 十进制\n",
    "        - 18， 89， 178"
   ]
  },
  {
   "cell_type": "code",
   "execution_count": 11,
   "metadata": {},
   "outputs": [
    {
     "name": "stdout",
     "output_type": "stream",
     "text": [
      "18\n",
      "18\n",
      "66\n",
      "255\n"
     ]
    }
   ],
   "source": [
    "age = 18\n",
    "print(18)\n",
    "\n",
    "age = 0b10010\n",
    "print(age)\n",
    "\n",
    "age = 0o102\n",
    "print(age)\n",
    "\n",
    "age = 0xff #十六进制ff表示二进制的1111 1111\n",
    "print(age)"
   ]
  },
  {
   "cell_type": "markdown",
   "metadata": {},
   "source": [
    "#### 浮点数"
   ]
  },
  {
   "cell_type": "markdown",
   "metadata": {},
   "source": [
    "- 3.132\n",
    "- 3."
   ]
  },
  {
   "cell_type": "markdown",
   "metadata": {},
   "source": [
    "- 科学计数法\n",
    "    - 数学定义\n",
    "    - 写法 3.14e-2"
   ]
  },
  {
   "cell_type": "code",
   "execution_count": 15,
   "metadata": {},
   "outputs": [
    {
     "name": "stdout",
     "output_type": "stream",
     "text": [
      "0.0314\n",
      "156.34\n",
      "0.2\n",
      "0.6\n"
     ]
    }
   ],
   "source": [
    "print(3.14e-2)\n",
    "\n",
    "height = 156.34\n",
    "print(height)\n",
    "\n",
    "shili = .2\n",
    "print(shili)\n",
    "\n",
    "shili = .6\n",
    "print(shili)"
   ]
  },
  {
   "cell_type": "markdown",
   "metadata": {},
   "source": [
    "#### 复数\n",
    "- 数学定义\n",
    "- 虚部用 J/j 表示\n",
    "    - 5j\n",
    "    - 4+5j\n",
    "    - (5j)"
   ]
  },
  {
   "cell_type": "markdown",
   "metadata": {},
   "source": [
    "#### 布尔值"
   ]
  },
  {
   "cell_type": "markdown",
   "metadata": {},
   "source": [
    "- 真假\n",
    "- 只有两个值：True / False\n",
    "- 在Python中可以当数字使用\n",
    "    - 如果布尔值当数字使用，True=1, False=0\n",
    "    - 如果数字当布尔值使用，0=False，其他=True"
   ]
  },
  {
   "cell_type": "code",
   "execution_count": 18,
   "metadata": {},
   "outputs": [
    {
     "name": "stdout",
     "output_type": "stream",
     "text": [
      "19\n",
      "负数是True\n"
     ]
    }
   ],
   "source": [
    "age = 18 + True\n",
    "print(age)\n",
    "\n",
    "a = -1 \n",
    "if a:\n",
    "    print(\"负数是True\")\n",
    "else:\n",
    "    print(\"负数是False\")"
   ]
  },
  {
   "cell_type": "markdown",
   "metadata": {},
   "source": [
    "#### None 类型"
   ]
  },
  {
   "cell_type": "markdown",
   "metadata": {},
   "source": [
    "- 表示没有，通常用来占位\n",
    "- 比如返回，用来表达返回一个空\n",
    "- 表示什么都没有\n",
    "- 如果函数没有返回值，可以返回 None\n",
    "- 用来占位置\n",
    "- 用来接触变量绑定"
   ]
  },
  {
   "cell_type": "markdown",
   "metadata": {},
   "source": [
    "#### 表达式"
   ]
  },
  {
   "cell_type": "markdown",
   "metadata": {},
   "source": [
    "- 由一个或多个数字或者变量或者运算符组成一行代码\n",
    "- 返回一个结果"
   ]
  },
  {
   "cell_type": "markdown",
   "metadata": {},
   "source": [
    "#### 运算符"
   ]
  },
  {
   "cell_type": "markdown",
   "metadata": {},
   "source": [
    "- 由一个以上的值经过一系列的运算符得到新值的过程叫运算\n",
    "- 用来操作运算的符号叫运算符\n",
    "- 运算符分类\n",
    "    - 算数运算符\n",
    "    - 比较运算符\n",
    "    - 赋值预算符\n",
    "    - 逻辑运算符\n",
    "    - 位运算符\n",
    "    - 成员运算符\n",
    "    - 身份运算符"
   ]
  },
  {
   "cell_type": "code",
   "execution_count": 24,
   "metadata": {},
   "outputs": [],
   "source": [
    "# 表达式案例\n",
    "a = 1 + 2"
   ]
  },
  {
   "cell_type": "markdown",
   "metadata": {},
   "source": [
    "#### 算数运算符 "
   ]
  },
  {
   "cell_type": "markdown",
   "metadata": {},
   "source": [
    "- 用来进行算数运算的符号\n",
    "- 通常用来进行加减乘除\n",
    "- Python没有自增或自减运算符"
   ]
  },
  {
   "cell_type": "code",
   "execution_count": 1,
   "metadata": {},
   "outputs": [
    {
     "name": "stdout",
     "output_type": "stream",
     "text": [
      "10\n",
      "36\n",
      "2.25\n",
      "1\n",
      "2\n",
      "6561\n",
      "27\n"
     ]
    }
   ],
   "source": [
    "# +,-跟正常算术运算符一模一样\n",
    "a = 9+3-2\n",
    "print(a)\n",
    "# 乘号用星号(*)代替\n",
    "a = 9 * 4\n",
    "print(a)\n",
    "# 除号用斜杠(/)代替\n",
    "# 在Python2.x 和python3.x 中，除号(/)结果可能不一致，此处以3系列为准\n",
    "a = 9/4\n",
    "print(a)\n",
    "\n",
    "\n",
    "# % 取余运算\n",
    "# 两个数字相除应该有商数有余数\n",
    "# % 只会得到余数\n",
    "a = 9 % 4\n",
    "print(a)\n",
    "\n",
    "# // 表示取商运算，也叫地板除\n",
    "a = 9 // 4\n",
    "print(a)\n",
    "\n",
    "# ** 表示幂运算\n",
    "a = 9 ** 4\n",
    "print(a)\n",
    "\n",
    "a = 3 ** 3\n",
    "print(a)"
   ]
  },
  {
   "cell_type": "markdown",
   "metadata": {},
   "source": [
    "##### 乘法"
   ]
  },
  {
   "cell_type": "markdown",
   "metadata": {},
   "source": [
    "- *\n",
    "- **"
   ]
  },
  {
   "cell_type": "markdown",
   "metadata": {},
   "source": [
    "#####  除法"
   ]
  },
  {
   "cell_type": "markdown",
   "metadata": {},
   "source": [
    "- 正常除 /\n",
    "- 取整除 //\n",
    "- 取余 %"
   ]
  },
  {
   "cell_type": "markdown",
   "metadata": {},
   "source": [
    "#### 比较运算符"
   ]
  },
  {
   "cell_type": "markdown",
   "metadata": {},
   "source": [
    "- 对两个内容进行比较的运算符\n",
    "- 结果一定是布尔值，即True/False\n",
    "- 类别\n",
    "    - ==\n",
    "    - !=\n",
    "    - >=\n",
    "    - <=\n",
    "    - >\n",
    "    - <"
   ]
  },
  {
   "cell_type": "code",
   "execution_count": 27,
   "metadata": {},
   "outputs": [
    {
     "name": "stdout",
     "output_type": "stream",
     "text": [
      "False\n",
      "True\n"
     ]
    }
   ],
   "source": [
    "a = 3 == 4\n",
    "print(a)\n",
    "\n",
    "a = 3 != 4\n",
    "print(a)"
   ]
  },
  {
   "cell_type": "markdown",
   "metadata": {},
   "source": [
    "#### 赋值运算符"
   ]
  },
  {
   "cell_type": "markdown",
   "metadata": {},
   "source": [
    "- 把一个值放到变量中"
   ]
  },
  {
   "cell_type": "code",
   "execution_count": null,
   "metadata": {},
   "outputs": [],
   "source": [
    "# = , 赋值\n",
    "a = 0\n",
    "c = a = 4\n",
    "\n",
    "# +=, 是缩写，\n",
    "a = 0\n",
    "a += 7 # a = a+ 7 的缩写\n",
    "print(a)\n",
    "\n",
    "\n",
    "# 所有数学运算符都有缩写形式\n",
    "# -=， ×=， /=, //=, %=, **=,都是缩写形式\n",
    "# 没有++，--"
   ]
  },
  {
   "cell_type": "markdown",
   "metadata": {},
   "source": [
    "#### 逻辑运算符"
   ]
  },
  {
   "cell_type": "markdown",
   "metadata": {},
   "source": [
    "- 对布尔类型变量或者值进行运算的符号\n",
    "- and \n",
    "- or\n",
    "- not\n",
    "- 无异或\n",
    "- 运算规则：\n",
    "    - and看做乘法， or看做加法，\n",
    "    - True看做1， False看做0\n",
    "    - 则逻辑运算就能转换成整数数学运算\n",
    "    - 最后结果如果是0则为False， 否则为True\n",
    "- 逻辑运算的短路问题\n",
    "    - 逻辑运算式，按照运算顺序计算，一旦能够确定整个式子未来的值，则不再进行计算，直接返回"
   ]
  },
  {
   "cell_type": "code",
   "execution_count": 28,
   "metadata": {},
   "outputs": [
    {
     "name": "stdout",
     "output_type": "stream",
     "text": [
      "True\n",
      "True\n"
     ]
    }
   ],
   "source": [
    "# 逻辑运算符案例\n",
    "a = True\n",
    "b = False\n",
    "c = True\n",
    "\n",
    "# 以下式子等价于 d = 1 * 0 + 1\n",
    "d = a and b or c\n",
    "print(d)\n",
    "\n",
    "\n",
    "d = a or b and a\n",
    "print(d)"
   ]
  },
  {
   "cell_type": "code",
   "execution_count": 29,
   "metadata": {},
   "outputs": [
    {
     "ename": "SyntaxError",
     "evalue": "invalid syntax (<ipython-input-29-81e724a0d038>, line 9)",
     "output_type": "error",
     "traceback": [
      "\u001b[0;36m  File \u001b[0;32m\"<ipython-input-29-81e724a0d038>\"\u001b[0;36m, line \u001b[0;32m9\u001b[0m\n\u001b[0;31m    a = a or (b=9) and 6\u001b[0m\n\u001b[0m               ^\u001b[0m\n\u001b[0;31mSyntaxError\u001b[0m\u001b[0;31m:\u001b[0m invalid syntax\n"
     ]
    }
   ],
   "source": [
    "# 逻辑运算的短路案例\n",
    "\n",
    "# 下面的逻辑表达式，a的值一定是True，则运行到or的时候，整个表达式不在向下计算\n",
    "a = True or xxxxxxxxxxx\n",
    "\n",
    "# 下面表达式，如果xxx中包含赋值表达式，则结果很难预期\n",
    "# 代码示例（伪代码)\n",
    "b = 0\n",
    "a = a or (b=9) and 6\n",
    "# 假定上面表达式如果没有语法错误\n",
    "# 则b最终的值应该是0而不是9\n",
    "print(b)\n",
    "print(a)"
   ]
  },
  {
   "cell_type": "code",
   "execution_count": 30,
   "metadata": {},
   "outputs": [
    {
     "name": "stdout",
     "output_type": "stream",
     "text": [
      "********************\n"
     ]
    }
   ],
   "source": [
    "print(\"*\" * 20)"
   ]
  },
  {
   "cell_type": "markdown",
   "metadata": {},
   "source": [
    "#### 成员运算符"
   ]
  },
  {
   "cell_type": "markdown",
   "metadata": {},
   "source": [
    "- 用来检测一个值或者变量是否在某个集合中\n",
    "- in\n",
    "- not in"
   ]
  },
  {
   "cell_type": "code",
   "execution_count": 31,
   "metadata": {},
   "outputs": [
    {
     "name": "stdout",
     "output_type": "stream",
     "text": [
      "6\n"
     ]
    }
   ],
   "source": [
    "l=[1,2,3]\n",
    "a=6\n",
    "aa=a in l\n",
    "print(a)"
   ]
  },
  {
   "cell_type": "markdown",
   "metadata": {},
   "source": [
    "#### 身份运算符"
   ]
  },
  {
   "cell_type": "markdown",
   "metadata": {},
   "source": [
    "- 用来确定两个变量是否是同一个变量\n",
    "- is \n",
    "- is not"
   ]
  },
  {
   "cell_type": "code",
   "execution_count": 34,
   "metadata": {},
   "outputs": [
    {
     "name": "stdout",
     "output_type": "stream",
     "text": [
      "False\n",
      "True\n",
      "False\n"
     ]
    }
   ],
   "source": [
    "# a b 仅仅值一样，并不代表a,b是一个变量 （唯一标识符）\n",
    "a = 1\n",
    "b = 2\n",
    "aa = a is b\n",
    "print(aa)\n",
    "\n",
    "# 小数[-5,256]\n",
    "a = 1  \n",
    "b = 1\n",
    "aa = a is b\n",
    "print(aa)\n",
    "\n",
    "a = 111111111\n",
    "b = 111111111\n",
    "aa = a is b\n",
    "print(aa)"
   ]
  },
  {
   "cell_type": "markdown",
   "metadata": {},
   "source": [
    "### 运算符的优先级问题\n",
    "- 永远记住，括号具有最高优先级\n",
    "- 优先级表格\n",
    "\n",
    "        **  指数 (最高优先级)\n",
    "        ~ + -   按位翻转, 一元加号和减号 (最后两个的方法名为 +@ 和 -@)\n",
    "        * / % //    乘，除，取模和取整除\n",
    "        + - 加法减法\n",
    "        >> <<   右移，左移运算符\n",
    "        &   位 'AND'\n",
    "        ^ | 位运算符\n",
    "        <= < > >=   比较运算符\n",
    "        <> == !=    等于运算符\n",
    "        = %= /= //= -= += *= **=    赋值运算符\n",
    "        is is not   身份运算符\n",
    "        in not in   成员运算符\n",
    "        not or and  逻辑运算符"
   ]
  }
 ],
 "metadata": {
  "kernelspec": {
   "display_name": "Python 3",
   "language": "python",
   "name": "python3"
  },
  "language_info": {
   "codemirror_mode": {
    "name": "ipython",
    "version": 3
   },
   "file_extension": ".py",
   "mimetype": "text/x-python",
   "name": "python",
   "nbconvert_exporter": "python",
   "pygments_lexer": "ipython3",
   "version": "3.6.8"
  }
 },
 "nbformat": 4,
 "nbformat_minor": 2
}
