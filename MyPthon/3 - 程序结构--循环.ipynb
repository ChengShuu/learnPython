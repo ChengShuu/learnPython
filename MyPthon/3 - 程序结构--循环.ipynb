{
 "cells": [
  {
   "cell_type": "markdown",
   "metadata": {},
   "source": [
    "# 循环语句"
   ]
  },
  {
   "cell_type": "markdown",
   "metadata": {},
   "source": [
    "- 重复执行某一个固定的动作或任务\n",
    "- 分类\n",
    "    - for      (break , continue , pass)\n",
    "    - while  \n",
    "- range"
   ]
  },
  {
   "cell_type": "markdown",
   "metadata": {},
   "source": [
    "### for"
   ]
  },
  {
   "cell_type": "markdown",
   "metadata": {},
   "source": [
    "- 语法\n",
    "\n",
    "        for 变量 in 序列：\n",
    "            语句1\n",
    "            语句2\n",
    "            ...\n",
    "            "
   ]
  },
  {
   "cell_type": "code",
   "execution_count": 29,
   "metadata": {},
   "outputs": [
    {
     "name": "stdout",
     "output_type": "stream",
     "text": [
      "2\n",
      "3\n",
      "4\n"
     ]
    }
   ],
   "source": [
    "# 将列表中的每一个列表赋值为i\n",
    "for i in [1, 2, 3]:\n",
    "    print(i+1)"
   ]
  },
  {
   "cell_type": "code",
   "execution_count": 30,
   "metadata": {},
   "outputs": [
    {
     "name": "stdout",
     "output_type": "stream",
     "text": [
      "zhangsan\n",
      "同学我们不约，不约，同学请自重\n",
      "wangwu\n",
      "同学我们不约，不约，同学请自重\n",
      "jingjing\n",
      "我的最爱jingjing出现了\n"
     ]
    }
   ],
   "source": [
    "# 打印学生列表姓名\n",
    "# 如果是jingjign，那肯定是我的最爱呀，\n",
    "# 如果是别的学生，那要冷酷的拒绝他\n",
    "stu_list = ['zhangsan', 'wangwu','jingjing']\n",
    "for name in stu_list:\n",
    "    print(name)\n",
    "    if name == \"jingjing\":\n",
    "        print(\"我的最爱{0}出现了\".format(name))\n",
    "    else:\n",
    "        print(\"同学我们不约，不约，同学请自重\")"
   ]
  },
  {
   "cell_type": "markdown",
   "metadata": {},
   "source": [
    "##### for-else语句\n",
    "-  当for循环结束的时候，会执行else语句\n",
    "- else语句是可选语句"
   ]
  },
  {
   "cell_type": "code",
   "execution_count": 5,
   "metadata": {},
   "outputs": [
    {
     "name": "stdout",
     "output_type": "stream",
     "text": [
      "zhangsan\n",
      "同学我们不约，不约，同学请自重\n",
      "lisi\n",
      "同学我们不约，不约，同学请自重\n",
      "wangwu\n",
      "同学我们不约，不约，同学请自重\n",
      "jingjing\n",
      "我的最爱jingjing出现了\n",
      "别的都不是我的学生，不会在爱了\n"
     ]
    }
   ],
   "source": [
    "# for-else语句\n",
    "# 打印列表中的同学，\n",
    "# 如果没有在列表中，或者列表结束了，我们需要打印提示语句，表示不在爱了\n",
    "\n",
    "# 打印学生列表姓名\n",
    "# 如果是jingjign，那肯定是我的最爱呀，\n",
    "# 如果是别的学生，那要冷酷的拒绝他\n",
    "for name in  ['zhangsan', 'lisi', 'wangwu','jingjing']:\n",
    "    print(name)\n",
    "    if name == \"jingjing\":\n",
    "        print(\"我的最爱{0}出现了\".format(name))\n",
    "    else:\n",
    "        print(\"同学我们不约，不约，同学请自重\")\n",
    "else:\n",
    "    print(\"别的都不是我的学生，不会在爱了\")"
   ]
  },
  {
   "cell_type": "markdown",
   "metadata": {},
   "source": [
    "# break , continue , pass"
   ]
  },
  {
   "cell_type": "markdown",
   "metadata": {},
   "source": [
    "- break： 无条件结束整个循环，简称循环猝死\n",
    "- continue：无条件结束本次循环，从新进入下一轮循环\n",
    "- pass：表示略过，通常用于占位"
   ]
  },
  {
   "cell_type": "code",
   "execution_count": 9,
   "metadata": {},
   "outputs": [
    {
     "name": "stdout",
     "output_type": "stream",
     "text": [
      "没找到\n",
      "没找到\n",
      "没找到\n",
      "找到了\n"
     ]
    }
   ],
   "source": [
    "dig_list = [ 4, 5, 7, 8, 9]\n",
    "\n",
    "for i in dig_list:\n",
    "    if i == 7:\n",
    "        print(\"找到了\")\n",
    "        break\n",
    "    else:\n",
    "        print(\"没找到\")"
   ]
  },
  {
   "cell_type": "code",
   "execution_count": 31,
   "metadata": {},
   "outputs": [
    {
     "name": "stdout",
     "output_type": "stream",
     "text": [
      "5\n",
      "6\n",
      "我找到了\n"
     ]
    }
   ],
   "source": [
    "# 在数字1-10中，寻找数字7，一旦找到，打印出来，其余则什么都不做\n",
    "# for 循环中的变量表示，一般用i，k，m，n，或者indx，idx，item之类\n",
    "# 在python中，如果循环变量名称不重要，可以用下划线（_)代替\n",
    "\n",
    "for i in range(5,11):\n",
    "    if i == 7:\n",
    "        print(\"我找到了\")\n",
    "        break\n",
    "    else:\n",
    "        print(i)"
   ]
  },
  {
   "cell_type": "code",
   "execution_count": 32,
   "metadata": {},
   "outputs": [
    {
     "name": "stdout",
     "output_type": "stream",
     "text": [
      "2 是偶数\n",
      "4 是偶数\n",
      "6 是偶数\n"
     ]
    }
   ],
   "source": [
    "# continue语句联系\n",
    "# 在数字1-10中，寻找所有偶数，找到偶数后打印偶数\n",
    "\n",
    "for i in range(1,8):\n",
    "    if i % 2 == 1:\n",
    "        continue\n",
    "    else:\n",
    "        print(\"{0} 是偶数\".format(i))"
   ]
  },
  {
   "cell_type": "code",
   "execution_count": 33,
   "metadata": {},
   "outputs": [
    {
     "name": "stdout",
     "output_type": "stream",
     "text": [
      "2 是偶数\n",
      "4 是偶数\n",
      "6 是偶数\n"
     ]
    }
   ],
   "source": [
    "# continue语句 版本 2\n",
    "# 在数字1-10中，寻找所有偶数，找到偶数后打印偶数\n",
    "# 本案例完整显示continue的用法和作用\n",
    "for i in range(1,8):\n",
    "    if i % 2 == 1:\n",
    "        continue\n",
    "        \n",
    "    print(\"{0} 是偶数\".format(i))"
   ]
  },
  {
   "cell_type": "code",
   "execution_count": null,
   "metadata": {},
   "outputs": [],
   "source": [
    "# pass例子，一般用于占位\n",
    "# pass没有跳过功能"
   ]
  },
  {
   "cell_type": "code",
   "execution_count": 34,
   "metadata": {},
   "outputs": [
    {
     "name": "stdout",
     "output_type": "stream",
     "text": [
      "wo zai zheli\n",
      "wo zai zheli\n",
      "wo zai zheli\n",
      "wo zai zheli\n",
      "wo zai zheli\n"
     ]
    }
   ],
   "source": [
    "for i in range(1,6):\n",
    "    pass\n",
    "    print(\"wo zai zheli\")"
   ]
  },
  {
   "cell_type": "markdown",
   "metadata": {},
   "source": [
    "### Range函数"
   ]
  },
  {
   "cell_type": "markdown",
   "metadata": {},
   "source": [
    "- 生成有序序列\n",
    "- 生成数字队列\n",
    "- 左包括，右不包括"
   ]
  },
  {
   "cell_type": "code",
   "execution_count": 35,
   "metadata": {},
   "outputs": [
    {
     "name": "stdout",
     "output_type": "stream",
     "text": [
      "1\n",
      "2\n",
      "3\n",
      "4\n"
     ]
    }
   ],
   "source": [
    "deg = range(1, 5)\n",
    "for i in deg:\n",
    "    print(i)"
   ]
  },
  {
   "cell_type": "markdown",
   "metadata": {},
   "source": [
    "- Python中表示范围的数字都是左包括，右不包括，\n",
    "- randint是特例\n",
    "- range函数在python2 python3 区别很大"
   ]
  },
  {
   "cell_type": "markdown",
   "metadata": {},
   "source": [
    "# while循环"
   ]
  },
  {
   "cell_type": "markdown",
   "metadata": {},
   "source": [
    "- 一个循环语句\n",
    "- 表示当某条件成立的时候，就循环，\n",
    "- 适用：不知道具体循环次数，但能确定循环的成立条件时\n",
    "- while 语法：\n",
    "    \n",
    "        while 条件表达式：\n",
    "            语句块\n",
    "            \n",
    "        #另外一种表达方法\n",
    "        while  条件表达式：\n",
    "            语句块1\n",
    "        else：\n",
    "            语句块2"
   ]
  },
  {
   "cell_type": "code",
   "execution_count": 26,
   "metadata": {},
   "outputs": [
    {
     "name": "stdout",
     "output_type": "stream",
     "text": [
      "第 1 年拿了 106.69999999999999 块钱\n",
      "第 2 年拿了 113.84889999999999 块钱\n",
      "第 3 年拿了 121.47677629999998 块钱\n",
      "第 4 年拿了 129.61572031209997 块钱\n",
      "第 5 年拿了 138.29997357301065 块钱\n",
      "第 6 年拿了 147.56607180240235 块钱\n",
      "第 7 年拿了 157.4529986131633 块钱\n",
      "第 8 年拿了 168.00234952024522 块钱\n",
      "第 9 年拿了 179.25850693810165 块钱\n",
      "第 10 年拿了 191.26882690295446 块钱\n",
      "第 11 年拿了 204.0838383054524 块钱\n"
     ]
    }
   ],
   "source": [
    "# 如果说年利率是6.7%，本利是每年翻滚， 则多少年后本钱会翻倍\n",
    "\n",
    "benqian = 100\n",
    "year = 0 # 存放需要范本的年数\n",
    "\n",
    "while benqian < 200:\n",
    "    benqian = benqian * (1+0.067)\n",
    "    year += 1 # year = year + 1\n",
    "    print(\"第 {0} 年拿了 {1} 块钱\".format(year, benqian))"
   ]
  },
  {
   "cell_type": "code",
   "execution_count": 27,
   "metadata": {},
   "outputs": [
    {
     "name": "stdout",
     "output_type": "stream",
     "text": [
      "第 1 年拿了 106700.0 块钱\n",
      "第 2 年拿了 113848.9 块钱\n",
      "第 3 年拿了 121476.77629999998 块钱\n",
      "第 4 年拿了 129615.72031209998 块钱\n",
      "第 5 年拿了 138299.97357301068 块钱\n",
      "第 6 年拿了 147566.07180240238 块钱\n",
      "第 7 年拿了 157452.99861316333 块钱\n",
      "第 8 年拿了 168002.34952024528 块钱\n",
      "第 9 年拿了 179258.5069381017 块钱\n",
      "第 10 年拿了 191268.8269029545 块钱\n",
      "第 11 年拿了 204083.83830545243 块钱\n",
      "大爷的，终于翻倍了，10多年呀\n",
      "当年10万可以盖个房子，现在儿子结婚，20万可以给他盖个厨房了\n"
     ]
    }
   ],
   "source": [
    "# 如果说年利率是6.7%，本利是每年翻滚， 则多少年后本钱会翻倍\n",
    "# 如果拿到的钱翻倍，则用print庆祝一下\n",
    "benqian = 100000\n",
    "year = 0\n",
    "while benqian < 200000:\n",
    "    benqian = benqian * (1+0.067)\n",
    "    year += 1 # year = year + 1\n",
    "    print(\"第 {0} 年拿了 {1} 块钱\".format(year, benqian))\n",
    "else:\n",
    "    print(\"大爷的，终于翻倍了，10多年呀\")\n",
    "    print(\"当年10万可以盖个房子，现在儿子结婚，20万可以给他盖个厨房了\")"
   ]
  }
 ],
 "metadata": {
  "kernelspec": {
   "display_name": "Python 3",
   "language": "python",
   "name": "python3"
  },
  "language_info": {
   "codemirror_mode": {
    "name": "ipython",
    "version": 3
   },
   "file_extension": ".py",
   "mimetype": "text/x-python",
   "name": "python",
   "nbconvert_exporter": "python",
   "pygments_lexer": "ipython3",
   "version": "3.6.8"
  }
 },
 "nbformat": 4,
 "nbformat_minor": 2
}
