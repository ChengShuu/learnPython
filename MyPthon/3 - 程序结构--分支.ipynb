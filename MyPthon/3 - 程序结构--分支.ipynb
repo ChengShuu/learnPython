{
 "cells": [
  {
   "cell_type": "markdown",
   "metadata": {},
   "source": [
    "# 总"
   ]
  },
  {
   "cell_type": "markdown",
   "metadata": {},
   "source": [
    "- 分支 if \n",
    "- input\n",
    "- 字符串真假"
   ]
  },
  {
   "cell_type": "markdown",
   "metadata": {},
   "source": [
    "### 程序结构"
   ]
  },
  {
   "cell_type": "markdown",
   "metadata": {},
   "source": [
    "- 顺序\n",
    "- 分支\n",
    "- 循环"
   ]
  },
  {
   "cell_type": "markdown",
   "metadata": {},
   "source": [
    "### 分支结构"
   ]
  },
  {
   "cell_type": "markdown",
   "metadata": {},
   "source": [
    "- 种类\n",
    "    - 单分支\n",
    "    - 双分支\n",
    "    - 多分支\n",
    "    \n",
    "- 分支的基本语法\n",
    "\n",
    "        if 条件表达式：\n",
    "            语句1\n",
    "            语句2\n",
    "            语句3\n",
    "            ......\n",
    "\n",
    "- 条件表达式就是计算结果必须为布尔值的表达式\n",
    "- 表达式后面的冒号不能少\n",
    "- 注意if后面的出现的语句，如果属于if语句块，则必须同一个锁紧等级\n",
    "- 条件表达式结果为True执行if后面的缩进的语句块"
   ]
  },
  {
   "cell_type": "code",
   "execution_count": 1,
   "metadata": {},
   "outputs": [
    {
     "name": "stdout",
     "output_type": "stream",
     "text": [
      "去叫家长吧，孩纸\n"
     ]
    }
   ],
   "source": [
    "# if语句练习\n",
    "# 如果age小于18岁，则打印信息“去叫家长”\n",
    "age = 17\n",
    "if age < 18:\n",
    "    print(\"去叫家长吧，孩纸\")"
   ]
  },
  {
   "cell_type": "markdown",
   "metadata": {},
   "source": [
    "### 双向分支"
   ]
  },
  {
   "cell_type": "markdown",
   "metadata": {},
   "source": [
    "- if...else...语句\n",
    "\n",
    "        if 条件表达式:\n",
    "            语句1\n",
    "            语句2\n",
    "            ...\n",
    "        else:\n",
    "            语句1\n",
    "            语句2\n",
    "            .....\n",
    "            \n",
    "- 双向分支有两个分支，当程序执行到if ... else...语句的时候，一定会执行if或else中的一个，也仅执行一个\n",
    "- 缩进问题，if和else一个层级，其余语句一个层级  "
   ]
  },
  {
   "cell_type": "code",
   "execution_count": 1,
   "metadata": {},
   "outputs": [
    {
     "name": "stdout",
     "output_type": "stream",
     "text": [
      "性别nm\n",
      "nm\n",
      "no\n"
     ]
    }
   ],
   "source": [
    "# 接受用户输入的内容并返回到程序\n",
    "gender = input(\"输入性别\")\n",
    "\n",
    "print(gender)\n",
    "\n",
    "if gender == \"man\":\n",
    "    print(\"go\")\n",
    "else:\n",
    "    print(\"no\")"
   ]
  },
  {
   "cell_type": "code",
   "execution_count": null,
   "metadata": {},
   "outputs": [],
   "source": [
    "score = input(\"输入成绩\")\n",
    "\n",
    "# 需要把str转换成int\n",
    "score = int(score)\n",
    "\n",
    "if score > 90:\n",
    "    print(\"优\")\n",
    "if score > 80 and score <= 90:\n",
    "    print(\"中\")\n",
    "if score > 70 and score <= 80:\n",
    "    print(\"良\")\n",
    "if score > 60 and score <= 70:\n",
    "    print(\"及格\")\n",
    "if score <= 60:\n",
    "    print(\"不及格\")"
   ]
  },
  {
   "cell_type": "markdown",
   "metadata": {},
   "source": [
    "### 多分支 "
   ]
  },
  {
   "cell_type": "markdown",
   "metadata": {},
   "source": [
    "        if  条件表达式：\n",
    "            语句1\n",
    "            ....\n",
    "        elif 条件表达式：\n",
    "            语句1\n",
    "            ...\n",
    "        elif 条件表达式：\n",
    "            语句1\n",
    "            ...\n",
    "            \n",
    "        .....\n",
    "        else:\n",
    "            语句1\n",
    "            ....\n",
    "            \n",
    "- elif 可以有很多个\n",
    "- else可选\n",
    "- 多分支只会选一个执行"
   ]
  },
  {
   "cell_type": "markdown",
   "metadata": {},
   "source": [
    "### if语句其他："
   ]
  },
  {
   "cell_type": "markdown",
   "metadata": {},
   "source": [
    "- if语句可以嵌套使用，但不推荐\n",
    "- python没有switch-case语句"
   ]
  },
  {
   "cell_type": "markdown",
   "metadata": {},
   "source": [
    "### 字符串的真假"
   ]
  },
  {
   "cell_type": "markdown",
   "metadata": {},
   "source": [
    "- 只有字符串为空(a = \"\")时，才为假;\n",
    "- 否则，a = \" \"为真"
   ]
  },
  {
   "cell_type": "markdown",
   "metadata": {},
   "source": [
    "### input的作用"
   ]
  },
  {
   "cell_type": "markdown",
   "metadata": {},
   "source": [
    "- 在屏幕上输出括号内的字符串\n",
    "- 接受用户输入的内容并返回到程序\n",
    "- input返回的内容一定是字符串类型"
   ]
  },
  {
   "cell_type": "code",
   "execution_count": null,
   "metadata": {},
   "outputs": [],
   "source": []
  }
 ],
 "metadata": {
  "kernelspec": {
   "display_name": "Python 3",
   "language": "python",
   "name": "python3"
  },
  "language_info": {
   "codemirror_mode": {
    "name": "ipython",
    "version": 3
   },
   "file_extension": ".py",
   "mimetype": "text/x-python",
   "name": "python",
   "nbconvert_exporter": "python",
   "pygments_lexer": "ipython3",
   "version": "3.6.8"
  }
 },
 "nbformat": 4,
 "nbformat_minor": 2
}
